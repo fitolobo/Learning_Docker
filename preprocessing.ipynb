{
 "cells": [
  {
   "cell_type": "markdown",
   "id": "b98256df-8cbe-4a8d-8b56-3465a1dd8954",
   "metadata": {},
   "source": [
    "Download the data from: https://www.kaggle.com/uwrfkaggler/ravdess-emotional-speech-audio"
   ]
  },
  {
   "cell_type": "markdown",
   "id": "274fe5a2-e8e9-4240-847a-182dc501f40d",
   "metadata": {},
   "source": [
    "### Objectives"
   ]
  },
  {
   "cell_type": "markdown",
   "id": "a4267c4e-94f6-4d7b-97be-108a14bac78b",
   "metadata": {},
   "source": [
    "**General**: Implement, compare and enhance the performance for a multiclass classification problem. \n",
    "\n",
    "**Specific**: Compare the performance between big and small models by using ML techniques. "
   ]
  },
  {
   "cell_type": "markdown",
   "id": "27634cf2-c257-42e3-82e0-2ef6423ed962",
   "metadata": {},
   "source": [
    "### First Part: Audio Preprocessing and Feature Extraction"
   ]
  },
  {
   "cell_type": "code",
   "execution_count": 1,
   "id": "670348c4-fc4d-4978-99cb-57675b28002f",
   "metadata": {},
   "outputs": [],
   "source": [
    "# Audio Library\n",
    "import librosa\n",
    "# Linear Algebra\n",
    "import numpy as np\n",
    "# Handling Paths\n",
    "import os\n",
    "# Plots\n",
    "import matplotlib.pyplot as plt\n",
    "import librosa.display\n",
    "# Time\n",
    "import time\n",
    "# sklearn\n",
    "import sklearn"
   ]
  },
  {
   "cell_type": "markdown",
   "id": "6d292a28-450e-40e5-ac0d-5049777f19c6",
   "metadata": {},
   "source": [
    "Get the root path inside the container"
   ]
  },
  {
   "cell_type": "code",
   "execution_count": 2,
   "id": "55c30573-40a4-4300-baa8-3984a0bd337a",
   "metadata": {},
   "outputs": [
    {
     "name": "stdout",
     "output_type": "stream",
     "text": [
      "/home/src\n"
     ]
    }
   ],
   "source": [
    "root_path = os.getcwd()\n",
    "print(root_path)"
   ]
  },
  {
   "cell_type": "markdown",
   "id": "8ac317e5-7053-40b0-8298-269eaa243bd9",
   "metadata": {},
   "source": [
    "Data path"
   ]
  },
  {
   "cell_type": "code",
   "execution_count": 3,
   "id": "89925439-0237-4417-936c-e118c3e5396f",
   "metadata": {},
   "outputs": [],
   "source": [
    "data_path = '/data'"
   ]
  },
  {
   "cell_type": "markdown",
   "id": "63406bd0-5b76-456f-a559-20ee75af31ae",
   "metadata": {},
   "source": [
    "Calling audio names inside the ```data``` directory "
   ]
  },
  {
   "cell_type": "code",
   "execution_count": 4,
   "id": "673871e2-e85b-46c1-bd9f-5e855ffde31e",
   "metadata": {},
   "outputs": [],
   "source": [
    "def calling_audios(data_path):\n",
    "    '''\n",
    "        Saving audio names\n",
    "    '''\n",
    "    names = list()\n",
    "    for dirname, _, filenames in os.walk(root_path + data_path):\n",
    "        for filename in filenames:\n",
    "            names.append(filename)\n",
    "    return names"
   ]
  },
  {
   "cell_type": "code",
   "execution_count": 5,
   "id": "473fd7a7-2f50-4eef-9c99-2fd13dd098c4",
   "metadata": {},
   "outputs": [
    {
     "name": "stdout",
     "output_type": "stream",
     "text": [
      "Number of total audios: \n",
      "1440\n",
      "Name Example: \n",
      "03-01-04-01-01-01-01.wav\n"
     ]
    }
   ],
   "source": [
    "audio_names = calling_audios(data_path)\n",
    "\n",
    "# Audio Numbers\n",
    "print(\"Number of total audios: \")\n",
    "print(len(audio_names))\n",
    "\n",
    "print(\"Name Example: \")\n",
    "print(audio_names[20])"
   ]
  },
  {
   "cell_type": "markdown",
   "id": "16dd6ac1-3750-4bf4-88a1-c11fabe09067",
   "metadata": {},
   "source": [
    "### Filename identifiers\n",
    "\n",
    "- Modality (01 = full-AV, 02 = video-only, 03 = audio-only).\n",
    "\n",
    "- Vocal channel (01 = speech, 02 = song).\n",
    "\n",
    "- Emotion (01 = neutral, 02 = calm, 03 = happy, 04 = sad, 05 = angry, 06 = fearful, 07 = disgust, 08 = surprised).\n",
    "\n",
    "- Emotional intensity (01 = normal, 02 = strong). NOTE: There is no strong intensity for the 'neutral' emotion.\n",
    "\n",
    "- Statement (01 = \"Kids are talking by the door\", 02 = \"Dogs are sitting by the door\").\n",
    "\n",
    "- Repetition (01 = 1st repetition, 02 = 2nd repetition).\n",
    "\n",
    "- Actor (01 to 24. Odd numbered actors are male, even numbered actors are female)."
   ]
  },
  {
   "cell_type": "markdown",
   "id": "67598e44-2bab-4a01-9964-f0022891a007",
   "metadata": {},
   "source": [
    "### Extracting MFCCs from audio data"
   ]
  },
  {
   "cell_type": "code",
   "execution_count": 6,
   "id": "60d94c81-eb14-42f9-9d9b-97565e67b750",
   "metadata": {},
   "outputs": [],
   "source": [
    "def creating_info_table(path):\n",
    "    big_model = []\n",
    "    small_model = []\n",
    "    big_model_log = []\n",
    "    small_model_log = []\n",
    "    audio_lengths = []\n",
    "    \n",
    "    start_time = time.time()\n",
    "    count = 0\n",
    "    for subdir, dirs, files in os.walk(path):\n",
    "        for file in files:\n",
    "            count += 1\n",
    "            try:\n",
    "                ##Load librosa array, obtain mfcss, store the file and the mcss information in a new array\n",
    "                X, sample_rate = librosa.load(os.path.join(subdir,file),duration=3, offset=0.5,res_type='kaiser_fast')\n",
    "                \n",
    "                \n",
    "                # make sure waveform vectors are homogenous by defining explicitly\n",
    "                waveform_homo = np.zeros((int(sample_rate*3,)))\n",
    "                waveform_homo[:len(X)] = X\n",
    "                \n",
    "                # Model 1 (big)\n",
    "                mfccs = np.mean(librosa.feature.mfcc(y=waveform_homo, sr=sample_rate, n_mfcc=40).T,axis=0) \n",
    "                # Model 2 (small)\n",
    "                mfccs_small = np.mean(librosa.feature.mfcc(y=X, sr=sample_rate, n_mfcc=12).T,axis=0) \n",
    "\n",
    "                # Model 1 (big log) \n",
    "                mfccs_log = np.mean(librosa.power_to_db(librosa.feature.mfcc(y=waveform_homo, sr=sample_rate, n_mfcc=40).T),axis=0) \n",
    "\n",
    "                # Model 2 (small log) \n",
    "                mfccs_small_log = np.mean(librosa.power_to_db(librosa.feature.mfcc(y=waveform_homo, sr=sample_rate, n_mfcc=12).T),axis=0) \n",
    "                \n",
    "                ## The instruction below converts the labels (from 1 to 8) to a series from 0 to 7\n",
    "                ## This is because our predictor needs to start from 0 otherwise it will try to predict also 0.\n",
    "                file = int(file.split(\"-\")[2])\n",
    "                \n",
    "                arr = mfccs, file\n",
    "                arr_small = mfccs_small, file\n",
    "                arr_log = mfccs_log, file\n",
    "                arr_small_log = mfccs_small_log, file\n",
    "                \n",
    "                big_model.append(arr)\n",
    "                big_model_log.append(arr_log)\n",
    "                small_model.append(arr_small)\n",
    "                small_model_log.append(arr_small_log)\n",
    "                \n",
    "                audio_lengths.append(len(waveform_homo))\n",
    "                \n",
    "          # If the file is not valid, skip it\n",
    "            except ValueError:\n",
    "                continue\n",
    "    print(\"Total Number of Audio Files\")\n",
    "    print(count)\n",
    "    print(\"--- Data loaded. Loading time: %s seconds ---\" % (time.time() - start_time))\n",
    "    \n",
    "    return big_model, small_model, big_model_log,small_model_log,audio_lengths"
   ]
  },
  {
   "cell_type": "markdown",
   "id": "6d9d37ab-4cd8-4689-b45c-8b1c50cdb3ed",
   "metadata": {},
   "source": [
    "#### Removing the hidden file ```.DS_Store```"
   ]
  },
  {
   "cell_type": "code",
   "execution_count": 7,
   "id": "7d73cf2a-e93d-4c98-8647-4ea67e51f919",
   "metadata": {},
   "outputs": [
    {
     "name": "stdout",
     "output_type": "stream",
     "text": [
      "rm: cannot remove '/home/src/data/.DS_Store': No such file or directory\n"
     ]
    }
   ],
   "source": [
    "rm -v /home/src/data/.DS_Store"
   ]
  },
  {
   "cell_type": "markdown",
   "id": "12b4208e-b0a6-4548-a4a3-f53b595410bc",
   "metadata": {},
   "source": [
    "#### Extracting MFCCs and then calculate the average over time for 40 and 12 feature dimensions. "
   ]
  },
  {
   "cell_type": "code",
   "execution_count": 8,
   "id": "b7ef7e2c-d074-46af-a60e-264eeeb8cfcf",
   "metadata": {},
   "outputs": [
    {
     "name": "stdout",
     "output_type": "stream",
     "text": [
      "Total Number of Audio Files\n",
      "1440\n",
      "--- Data loaded. Loading time: 102.75753808021545 seconds ---\n"
     ]
    }
   ],
   "source": [
    "big_model, small_model, big_model_log,small_model_log,audio_lengths = creating_info_table(root_path+'/'+data_path)"
   ]
  },
  {
   "cell_type": "markdown",
   "id": "11524e1b-2d4b-4f28-9cf4-5f63ea27eaa8",
   "metadata": {},
   "source": [
    "#### Saving The Feature Vectors (MFCCs) and Class Vector"
   ]
  },
  {
   "cell_type": "code",
   "execution_count": 9,
   "id": "d91335b0-1633-4d04-b72b-8487ff8c3be7",
   "metadata": {},
   "outputs": [],
   "source": [
    "Xb, yb = zip(*big_model)\n",
    "Xb = np.asarray(Xb)\n",
    "yb = np.asarray(yb)\n",
    "\n",
    "Xs, ys = zip(*small_model)\n",
    "Xs = np.asarray(Xs)\n",
    "ys = np.asarray(ys)\n",
    "\n",
    "Xbl, ybl = zip(*big_model_log)\n",
    "Xbl = np.asarray(Xbl)\n",
    "ybl = np.asarray(ybl)\n",
    "\n",
    "Xsl, ysl = zip(*small_model_log)\n",
    "Xsl = np.asarray(Xsl)\n",
    "ysl = np.asarray(ysl)"
   ]
  },
  {
   "cell_type": "code",
   "execution_count": 10,
   "id": "77f1b700-0219-42e9-931f-91b58fa9b31b",
   "metadata": {},
   "outputs": [
    {
     "name": "stdout",
     "output_type": "stream",
     "text": [
      "Features and labels saved to processed_data/mfccs_big_and_small.npy\n"
     ]
    }
   ],
   "source": [
    "filename = 'processed_data/mfccs_big_and_small.npy'\n",
    "\n",
    "# open file in write mode and write data\n",
    "with open(filename, 'wb') as f:\n",
    "    np.save(f, Xb)\n",
    "    np.save(f, yb)\n",
    "    np.save(f, Xs)\n",
    "    np.save(f, ys)\n",
    "    np.save(f, Xbl)\n",
    "    np.save(f, ybl)\n",
    "    np.save(f, Xsl)\n",
    "    np.save(f, ysl)\n",
    "    \n",
    "print(f'Features and labels saved to {filename}')"
   ]
  },
  {
   "cell_type": "code",
   "execution_count": 11,
   "id": "49d4e88d-96a0-4fc7-9af3-a114292d6a6c",
   "metadata": {},
   "outputs": [
    {
     "name": "stdout",
     "output_type": "stream",
     "text": [
      "Xb:(1440, 40), yb:(1440,)\n",
      "Xs:(1440, 12), ys:(1440,)\n",
      "Xb:(1440, 40), yb:(1440,)\n",
      "Xs:(1440, 12), ys:(1440,)\n"
     ]
    }
   ],
   "source": [
    "# Check the dimensions of the saved data\n",
    "print(f'Xb:{Xb.shape}, yb:{yb.shape}')\n",
    "print(f'Xs:{Xs.shape}, ys:{ys.shape}')\n",
    "print(f'Xb:{Xbl.shape}, yb:{ybl.shape}')\n",
    "print(f'Xs:{Xsl.shape}, ys:{ysl.shape}')"
   ]
  },
  {
   "cell_type": "markdown",
   "id": "349a91f1-d43b-4035-98d5-ba14595f1d43",
   "metadata": {},
   "source": [
    "Checking the saved data"
   ]
  },
  {
   "cell_type": "code",
   "execution_count": 12,
   "id": "59819183-4b40-4dae-bd76-a0c6eaaaf8fa",
   "metadata": {},
   "outputs": [
    {
     "name": "stdout",
     "output_type": "stream",
     "text": [
      "Xb:(1440, 40), yb:(1440,)\n",
      "Xs:(1440, 12), ys:(1440,)\n",
      "Xb:(1440, 40), yb:(1440,)\n",
      "Xs:(1440, 12), ys:(1440,)\n"
     ]
    }
   ],
   "source": [
    "# open file in read mode and read data \n",
    "with open(filename, 'rb') as f:\n",
    "    Xb = np.load(f)\n",
    "    yb = np.load(f)\n",
    "    Xs = np.load(f)\n",
    "    ys = np.load(f)\n",
    "    Xbl = np.load(f)\n",
    "    ybl = np.load(f)\n",
    "    Xsl = np.load(f)\n",
    "    ysl = np.load(f)\n",
    "# Check that we've recovered the right data\n",
    "print(f'Xb:{Xb.shape}, yb:{yb.shape}')\n",
    "print(f'Xs:{Xs.shape}, ys:{ys.shape}')\n",
    "print(f'Xb:{Xbl.shape}, yb:{ybl.shape}')\n",
    "print(f'Xs:{Xsl.shape}, ys:{ysl.shape}')"
   ]
  },
  {
   "cell_type": "markdown",
   "id": "47993ad5-4179-4391-a8e0-41ec0e0f6328",
   "metadata": {},
   "source": [
    "Checking the dimensions"
   ]
  },
  {
   "cell_type": "code",
   "execution_count": 13,
   "id": "16a4d11f-fe93-4aeb-ace0-b27045dabde4",
   "metadata": {},
   "outputs": [
    {
     "name": "stdout",
     "output_type": "stream",
     "text": [
      "66150\n",
      "66150\n"
     ]
    }
   ],
   "source": [
    "print(np.max(audio_lengths))\n",
    "print(np.min(audio_lengths))"
   ]
  },
  {
   "cell_type": "code",
   "execution_count": 14,
   "id": "1d6eea38-5d33-4431-81b4-3cfe7b2fe529",
   "metadata": {},
   "outputs": [
    {
     "name": "stdout",
     "output_type": "stream",
     "text": [
      "Cantidad de elementos en cada arreglo\n",
      "1440\n",
      "1440\n",
      "1440\n",
      "1440\n"
     ]
    }
   ],
   "source": [
    "print(\"Cantidad de elementos en cada arreglo\")\n",
    "print(len(big_model))\n",
    "print(len(small_model))\n",
    "print(len(big_model_log))\n",
    "print(len(small_model_log))"
   ]
  },
  {
   "cell_type": "code",
   "execution_count": 15,
   "id": "d090e3b7-8c0e-4458-9cab-5f97e7a73980",
   "metadata": {},
   "outputs": [
    {
     "name": "stdout",
     "output_type": "stream",
     "text": [
      "MFCCs Dimensions\n",
      "(40,)\n",
      "(12,)\n",
      "(40,)\n",
      "(12,)\n"
     ]
    }
   ],
   "source": [
    "print(\"MFCCs Dimensions\")\n",
    "print(big_model[0][0].shape)\n",
    "print(small_model[0][0].shape)\n",
    "print(big_model_log[0][0].shape)\n",
    "print(small_model_log[0][0].shape)"
   ]
  },
  {
   "cell_type": "markdown",
   "id": "ed361846-37db-4b53-898f-60af8224aac0",
   "metadata": {},
   "source": [
    "#### Extracting RMS Energy and Zero Crossing Features. First feature associated to average energy into the signal, and second feature associated to the rythm pattern. "
   ]
  },
  {
   "cell_type": "markdown",
   "id": "0bbd4cd2-16c3-4c02-915b-108349a50b70",
   "metadata": {},
   "source": [
    "```hop_length```: Number of samples beetween sucessives windows, for example columns of the espectrogram. It is a positive integer. \n",
    "\n",
    "```frame_length```: Multiple of the ```hop_length```. It is the size of the window moving across the signal, which takes the ```rms``` sum over the samples.  "
   ]
  },
  {
   "cell_type": "code",
   "execution_count": 16,
   "id": "cebb72dc-593e-4ca4-b425-293735866f53",
   "metadata": {},
   "outputs": [],
   "source": [
    "def Audio_Energy(x):\n",
    "    hop_length = 256\n",
    "    frame_length = 512\n",
    "    return librosa.feature.rms(x, frame_length=frame_length, hop_length=hop_length, center=True)"
   ]
  },
  {
   "cell_type": "code",
   "execution_count": 17,
   "id": "a9cd56e4-1031-4fca-97b9-106ed29d2169",
   "metadata": {},
   "outputs": [],
   "source": [
    "def Zero_Crossing(x):\n",
    "    return librosa.feature.zero_crossing_rate(x)"
   ]
  },
  {
   "cell_type": "code",
   "execution_count": 18,
   "id": "b1bd3b74-365c-4722-b693-520b9ae8048c",
   "metadata": {},
   "outputs": [],
   "source": [
    "def Spectral_Centroids(x,sr):\n",
    "    return librosa.feature.spectral_centroid(x, sr=sr)[0]"
   ]
  },
  {
   "cell_type": "code",
   "execution_count": 19,
   "id": "12ba6d18-3e66-4668-b6f7-b31326b99ef6",
   "metadata": {},
   "outputs": [],
   "source": [
    "def normalize(x, axis=0):\n",
    "    return sklearn.preprocessing.minmax_scale(x, axis=axis)"
   ]
  },
  {
   "cell_type": "markdown",
   "id": "b4b583c1-c848-4387-b066-3375cf99801e",
   "metadata": {},
   "source": [
    "#### Applying the extraction"
   ]
  },
  {
   "cell_type": "code",
   "execution_count": 20,
   "id": "d0d54398-84fe-40b4-805a-135d9531bcfc",
   "metadata": {},
   "outputs": [],
   "source": [
    "def features(path):\n",
    "    lst = []\n",
    "    start_time = time.time()\n",
    "    count = 0\n",
    "    epsilon = 0.01\n",
    "    for subdir, dirs, files in os.walk(path):\n",
    "        for file in files:\n",
    "            count += 1\n",
    "            try:\n",
    "                #Load librosa array obtain rms energy and zero crossing, just pick three seconds and cut off\n",
    "                # the first 0.5 sec. \"kaiser_fast\" is used to resample the file as faster as possible. \n",
    "                X, sample_rate = librosa.load(os.path.join(subdir,file),duration=3, offset=0.5, res_type='kaiser_fast')\n",
    "                \n",
    "                # make sure waveform vectors are homogenous by defining explicitly\n",
    "                waveform_homo = np.zeros((int(sample_rate*3,)))\n",
    "                waveform_homo[:len(X)] = X\n",
    "                \n",
    "                energy = Audio_Energy(waveform_homo)\n",
    "                zero_cross =  Zero_Crossing(waveform_homo+epsilon)\n",
    "                spectral_centroids = Spectral_Centroids(X+epsilon,sample_rate)\n",
    "                # La lista tiene 3 vectores de caracteristicas por elemento\n",
    "                arr = energy, zero_cross, spectral_centroids\n",
    "                lst.append(arr)\n",
    "          # If the file is not valid, skip it\n",
    "            except ValueError:\n",
    "                continue\n",
    "    print(\"Total Number of Audio Files\")\n",
    "    print(count)\n",
    "    print(\"--- Data loaded. Loading time: %s seconds ---\" % (time.time() - start_time))\n",
    "    return lst"
   ]
  },
  {
   "cell_type": "code",
   "execution_count": 21,
   "id": "37f665d1-3203-4ec2-a683-6659987aba65",
   "metadata": {},
   "outputs": [
    {
     "name": "stdout",
     "output_type": "stream",
     "text": [
      "Total Number of Audio Files\n",
      "1440\n",
      "--- Data loaded. Loading time: 68.18746280670166 seconds ---\n"
     ]
    }
   ],
   "source": [
    "rmse_and_zerocross = features(root_path+'/'+data_path)"
   ]
  },
  {
   "cell_type": "markdown",
   "id": "8d637c31-8651-4dbe-a16f-8e2712df4a19",
   "metadata": {},
   "source": [
    "#### Saving the features"
   ]
  },
  {
   "cell_type": "code",
   "execution_count": 22,
   "id": "20109f93-5482-4644-a5bb-a3160fe96f9a",
   "metadata": {},
   "outputs": [],
   "source": [
    "rms_energy, zero_cross, spectral_centroid= zip(*rmse_and_zerocross)"
   ]
  },
  {
   "cell_type": "code",
   "execution_count": 23,
   "id": "6d3b878a-866f-45c5-ac05-c915022bf19a",
   "metadata": {},
   "outputs": [
    {
     "name": "stdout",
     "output_type": "stream",
     "text": [
      "(1440, 1, 259)\n",
      "(1440, 1, 130)\n",
      "(1440,)\n"
     ]
    },
    {
     "name": "stderr",
     "output_type": "stream",
     "text": [
      "/usr/local/lib/python3.8/site-packages/numpy/core/_asarray.py:83: VisibleDeprecationWarning: Creating an ndarray from ragged nested sequences (which is a list-or-tuple of lists-or-tuples-or ndarrays with different lengths or shapes) is deprecated. If you meant to do this, you must specify 'dtype=object' when creating the ndarray\n",
      "  return array(a, dtype, copy=False, order=order)\n"
     ]
    }
   ],
   "source": [
    "print(np.asarray(rms_energy).shape)\n",
    "print(np.asarray(zero_cross).shape)\n",
    "print(np.asarray(spectral_centroid).shape)"
   ]
  },
  {
   "cell_type": "code",
   "execution_count": 24,
   "id": "8527cf05-d0d4-46b7-a0bf-19fbc47fd6fe",
   "metadata": {},
   "outputs": [],
   "source": [
    "rms_energy = np.asarray(rms_energy)\n",
    "zero_cross = np.asarray(zero_cross)\n",
    "spectral_centroid = np.asarray(spectral_centroid)"
   ]
  },
  {
   "cell_type": "code",
   "execution_count": 25,
   "id": "8ef549d0-5214-4eb1-8cce-4bfbd927ffd2",
   "metadata": {},
   "outputs": [
    {
     "name": "stdout",
     "output_type": "stream",
     "text": [
      "Features and labels saved to processed_data/more_features.npy\n"
     ]
    }
   ],
   "source": [
    "filename = 'processed_data/more_features.npy'\n",
    "# open file in write mode and write data\n",
    "with open(filename, 'wb') as f:\n",
    "    np.save(f, rms_energy)\n",
    "    np.save(f, zero_cross)\n",
    "    np.save(f, spectral_centroid )\n",
    "\n",
    "print(f'Features and labels saved to {filename}')"
   ]
  },
  {
   "cell_type": "markdown",
   "id": "afe86403-7c68-4252-85b1-7363f7a87553",
   "metadata": {},
   "source": [
    "Checking Dimensions"
   ]
  },
  {
   "cell_type": "code",
   "execution_count": 26,
   "id": "b00c6180-80c9-42b6-9768-f3de944b54a2",
   "metadata": {},
   "outputs": [
    {
     "name": "stdout",
     "output_type": "stream",
     "text": [
      "Dimensions for each feature: \n",
      "Energy: \n",
      "(1, 259)\n",
      "Zero Crossing: \n",
      "(1, 130)\n",
      "Another Example:\n",
      "Energy: \n",
      "(1, 259)\n",
      "Zero Crossing: \n",
      "(1, 130)\n"
     ]
    }
   ],
   "source": [
    "print(\"Dimensions for each feature: \")\n",
    "print(\"Energy: \")\n",
    "print(rmse_and_zerocross[0][0].shape)\n",
    "print(\"Zero Crossing: \")\n",
    "print(rmse_and_zerocross[0][1].shape)\n",
    "print(\"Another Example:\")\n",
    "print(\"Energy: \")\n",
    "print(rmse_and_zerocross[7][0].shape)\n",
    "print(\"Zero Crossing: \")\n",
    "print(rmse_and_zerocross[7][1].shape)"
   ]
  },
  {
   "cell_type": "markdown",
   "id": "2ef4e29c-3a46-4870-8d74-6aa1bc5ca1d7",
   "metadata": {},
   "source": [
    "### Observando las representaciones de cada feature visualmente"
   ]
  },
  {
   "cell_type": "markdown",
   "id": "6a315306-918e-46a3-b278-118cbd275e9f",
   "metadata": {},
   "source": [
    "Mel-Spectrogram "
   ]
  },
  {
   "cell_type": "code",
   "execution_count": 27,
   "id": "6e0be864-276b-45ad-b480-80fefb2bd262",
   "metadata": {},
   "outputs": [],
   "source": [
    "y, sr = librosa.load('/home/src/data/Actor_01/03-01-01-01-01-01-01.wav')"
   ]
  },
  {
   "cell_type": "code",
   "execution_count": 28,
   "id": "278d667b-30df-477b-b7bc-f24bbe69a6f2",
   "metadata": {},
   "outputs": [],
   "source": [
    "mel_spec = librosa.feature.melspectrogram(y=y, sr=sr)"
   ]
  },
  {
   "cell_type": "code",
   "execution_count": 29,
   "id": "50dbd587-d005-47bb-aacf-630856ca2723",
   "metadata": {},
   "outputs": [
    {
     "data": {
      "text/plain": [
       "[Text(0.5, 1.0, 'Mel-frequency spectrogram')]"
      ]
     },
     "execution_count": 29,
     "metadata": {},
     "output_type": "execute_result"
    },
    {
     "data": {
      "image/png": "[encoded data removed]",
      "text/plain": [
       "<Figure size 432x288 with 2 Axes>"
      ]
     },
     "metadata": {
      "needs_background": "light"
     },
     "output_type": "display_data"
    }
   ],
   "source": [
    "fig, ax = plt.subplots()\n",
    "img = librosa.display.specshow(librosa.power_to_db(mel_spec), x_axis='time',\n",
    "                         y_axis='mel', sr=sr,\n",
    "                         fmax=8000, ax=ax)\n",
    "fig.colorbar(img, ax=ax, format='%+2.0f dB')\n",
    "ax.set(title='Mel-frequency spectrogram')"
   ]
  },
  {
   "cell_type": "markdown",
   "id": "d2b04e5e-10fa-4cf2-8fed-b9dec814cf4d",
   "metadata": {},
   "source": [
    "Energy, Zero Crossing and Spectral Centroid"
   ]
  },
  {
   "cell_type": "code",
   "execution_count": 30,
   "id": "b99bdc30-f026-4b10-a691-f1f57e10661d",
   "metadata": {},
   "outputs": [
    {
     "data": {
      "text/plain": [
       "<matplotlib.legend.Legend at 0x7fc035b15b80>"
      ]
     },
     "execution_count": 30,
     "metadata": {},
     "output_type": "execute_result"
    },
    {
     "data": {
      "image/png": "[encoded data removed]",
      "text/plain": [
       "<Figure size 1080x1224 with 1 Axes>"
      ]
     },
     "metadata": {
      "needs_background": "light"
     },
     "output_type": "display_data"
    }
   ],
   "source": [
    "plt.figure(figsize=(15,17))\n",
    "ax = plt.subplot(3,1,1)\n",
    "\n",
    "# Audio de ejemplo\n",
    "X, sample_rate = librosa.load('/home/src/data/Actor_01/03-01-01-01-01-01-01.wav',duration=3, offset=0.5,res_type='kaiser_fast')\n",
    "\n",
    "# Energia RMS\n",
    "rms_energy_example = Audio_Energy(X)[0]\n",
    "\n",
    "# Zero Crossing\n",
    "zero_crossing_example = Zero_Crossing(X+0.01)[0]\n",
    "\n",
    "# Spectral Centroid\n",
    "spectral_centroids = Spectral_Centroids(X+0.01,sample_rate)\n",
    "\n",
    "# Frames to Time\n",
    "frames = range(len(rms_energy_example))\n",
    "t = librosa.frames_to_time(frames, hop_length = 256)\n",
    "tz = librosa.frames_to_time(range(0,len(zero_crossing_example)))\n",
    "ts = librosa.frames_to_time(range(0,len(spectral_centroids)))\n",
    "\n",
    "\n",
    "\n",
    "# Gráficos\n",
    "librosa.display.waveplot(X,alpha=0.5)\n",
    "plt.plot(t,rms_energy_example,color = 'g')\n",
    "plt.plot(tz,zero_crossing_example,color = 'r')\n",
    "plt.plot(ts, normalize(spectral_centroids), color='b') \n",
    "plt.title(\"Audio Wave Form Example\")\n",
    "plt.legend([\"Energy RMS\", \"Zero Crossing Rate\", \"Spectral Centroids\"], loc =\"upper right\")\n"
   ]
  },
  {
   "cell_type": "markdown",
   "id": "65a4510f-05a5-482e-871a-2ad272feec7d",
   "metadata": {},
   "source": [
    "The silence at the beginning and at the end of the file has a base noise of low amplitude, but as a noise, it cross more times the zero value in comparison to a voice. For that reason, we can add up constant term in order to increase the noise ratio, avoiding the zero crossing of the base noise. You can try erasing the ```+0.01```value inside the zero crossing function. The same occurs for spectral centroids (due to noise). "
   ]
  }
 ],
 "metadata": {
  "kernelspec": {
   "display_name": "Python 3",
   "language": "python",
   "name": "python3"
  },
  "language_info": {
   "codemirror_mode": {
    "name": "ipython",
    "version": 3
   },
   "file_extension": ".py",
   "mimetype": "text/x-python",
   "name": "python",
   "nbconvert_exporter": "python",
   "pygments_lexer": "ipython3",
   "version": "3.8.10"
  }
 },
 "nbformat": 4,
 "nbformat_minor": 5
}
